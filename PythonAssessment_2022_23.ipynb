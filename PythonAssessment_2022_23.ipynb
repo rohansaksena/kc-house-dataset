{
 "cells": [
  {
   "cell_type": "markdown",
   "metadata": {
    "id": "hqlAwxycceLg"
   },
   "source": [
    "# Welcome to the **Python Assessment** of **Vertical Collaboration, Open Community**\n",
    "\n",
    "## About the dataset\n",
    "This dataset contains house sale prices for King County, which includes Seattle. It includes homes sold between May 2014 and May 2015.\n",
    "\n",
    "##### To pass the assessment, you must answer all 11 questions correctly ***Bonus section is optional*.\n",
    "\n",
    "#### Wish you all the best!!\n",
    "\n",
    "\n"
   ]
  },
  {
   "cell_type": "code",
   "execution_count": 23,
   "metadata": {
    "id": "wU_bXJPAcsQc"
   },
   "outputs": [],
   "source": [
    "import numpy as np\n",
    "import pandas as pd\n",
    "import matplotlib.pyplot as plt\n",
    "import seaborn as sns"
   ]
  },
  {
   "cell_type": "markdown",
   "metadata": {
    "id": "4XxnlWfzd7xk"
   },
   "source": [
    "**Q1) Your understanding about (max 50 words)**\n",
    "\n",
    "\n",
    "**1.   NumPY:**\n",
    "NumPy is a Python library used for working with arrays.It also has functions for working with linear algebra, fourier transform, and matrices.NumPy aims to provide an array object that is up to 50x faster than traditional Python lists.<br>\n",
    "**2.   Pandas:** \n",
    "Pandas is a Python library used for working with data sets.It has functions for analyzing, cleaning, exploring, and manipulating data.Pandas allows us to analyze big data and make conclusions based on statistical theories.Pandas can clean messy data sets, and make them readable and relevant.<br>\n",
    "**3.   MatPlotLib:** \n",
    "Matplotlib is a low level graph plotting library in python that serves as a visualization utility.\n"
   ]
  },
  {
   "cell_type": "markdown",
   "metadata": {
    "id": "XmRRFzQccy3j"
   },
   "source": [
    "**Q2) Upload the given dataset into the folder named sample_data**"
   ]
  },
  {
   "cell_type": "code",
   "execution_count": 5,
   "metadata": {
    "id": "npg0aacAcuDR"
   },
   "outputs": [
    {
     "name": "stdout",
     "output_type": "stream",
     "text": [
      "<class 'pandas.core.frame.DataFrame'>\n",
      "RangeIndex: 21613 entries, 0 to 21612\n",
      "Data columns (total 21 columns):\n",
      " #   Column         Non-Null Count  Dtype  \n",
      "---  ------         --------------  -----  \n",
      " 0   id             21613 non-null  int64  \n",
      " 1   date           21613 non-null  object \n",
      " 2   price          21613 non-null  float64\n",
      " 3   bedrooms       21613 non-null  int64  \n",
      " 4   bathrooms      21613 non-null  float64\n",
      " 5   sqft_living    21613 non-null  int64  \n",
      " 6   sqft_lot       21613 non-null  int64  \n",
      " 7   floors         21613 non-null  float64\n",
      " 8   waterfront     21613 non-null  int64  \n",
      " 9   view           21613 non-null  int64  \n",
      " 10  condition      21613 non-null  int64  \n",
      " 11  grade          21613 non-null  int64  \n",
      " 12  sqft_above     21613 non-null  int64  \n",
      " 13  sqft_basement  21613 non-null  int64  \n",
      " 14  yr_built       21613 non-null  int64  \n",
      " 15  yr_renovated   21613 non-null  int64  \n",
      " 16  zipcode        21613 non-null  int64  \n",
      " 17  lat            21613 non-null  float64\n",
      " 18  long           21613 non-null  float64\n",
      " 19  sqft_living15  21613 non-null  int64  \n",
      " 20  sqft_lot15     21613 non-null  int64  \n",
      "dtypes: float64(5), int64(15), object(1)\n",
      "memory usage: 3.5+ MB\n"
     ]
    }
   ],
   "source": [
    "sales = pd.read_csv('kc_house_data.csv')\n",
    "sales.info()"
   ]
  },
  {
   "cell_type": "markdown",
   "metadata": {
    "id": "zvQY-iP4c4HD"
   },
   "source": [
    "**Q2) Find out the total number of rows and columns present in our dataset**"
   ]
  },
  {
   "cell_type": "code",
   "execution_count": 14,
   "metadata": {
    "id": "E22av13Mc3eE"
   },
   "outputs": [
    {
     "data": {
      "text/plain": [
       "(21613, 21)"
      ]
     },
     "execution_count": 14,
     "metadata": {},
     "output_type": "execute_result"
    }
   ],
   "source": [
    "sales.shape"
   ]
  },
  {
   "cell_type": "markdown",
   "metadata": {
    "id": "R6EDQ3U7dMii"
   },
   "source": [
    "**Q3) Find out the mean of Price**"
   ]
  },
  {
   "cell_type": "code",
   "execution_count": 17,
   "metadata": {
    "id": "2yVwB0Ztc9zz"
   },
   "outputs": [
    {
     "data": {
      "text/plain": [
       "540088.1417665294"
      ]
     },
     "execution_count": 17,
     "metadata": {},
     "output_type": "execute_result"
    }
   ],
   "source": [
    "sales['price'].mean()"
   ]
  },
  {
   "cell_type": "markdown",
   "metadata": {
    "id": "2QO6-TXvddnN"
   },
   "source": [
    "**Q4) Find out which zipcode has maximum no of sales**"
   ]
  },
  {
   "cell_type": "code",
   "execution_count": 27,
   "metadata": {
    "id": "vlSAsQfQfgg2"
   },
   "outputs": [
    {
     "data": {
      "text/plain": [
       "98103    602\n",
       "Name: zipcode, dtype: int64"
      ]
     },
     "execution_count": 27,
     "metadata": {},
     "output_type": "execute_result"
    }
   ],
   "source": [
    "sales['zipcode'].value_counts().head(1)"
   ]
  },
  {
   "cell_type": "markdown",
   "metadata": {
    "id": "eeLeVaWBdj7e"
   },
   "source": [
    "**Q5) Make an array displaying type of house grade present**"
   ]
  },
  {
   "cell_type": "code",
   "execution_count": 35,
   "metadata": {
    "id": "TOVrRt4sfhrK"
   },
   "outputs": [
    {
     "data": {
      "text/plain": [
       "array([ 7,  6,  8, 11,  9,  5, 10, 12,  4,  3, 13,  1], dtype=int64)"
      ]
     },
     "execution_count": 35,
     "metadata": {},
     "output_type": "execute_result"
    }
   ],
   "source": [
    "sales['grade'].unique()"
   ]
  },
  {
   "cell_type": "markdown",
   "metadata": {
    "id": "vyYhtqQDdxqj"
   },
   "source": [
    "**Q6) Find out the total no sales in conditions 3 and 4**"
   ]
  },
  {
   "cell_type": "code",
   "execution_count": 13,
   "metadata": {
    "id": "SkBMOVvafiei"
   },
   "outputs": [
    {
     "data": {
      "text/plain": [
       "19710"
      ]
     },
     "execution_count": 13,
     "metadata": {},
     "output_type": "execute_result"
    }
   ],
   "source": [
    "len(sales[(sales['condition'] == 3) | (sales['condition'] == 4)])"
   ]
  },
  {
   "cell_type": "markdown",
   "metadata": {
    "id": "AHs7ZLKrdTsD"
   },
   "source": [
    "**Q7) Find out the top-five ids with the highest prices**"
   ]
  },
  {
   "cell_type": "code",
   "execution_count": 74,
   "metadata": {
    "id": "BS653UBKfjfK"
   },
   "outputs": [
    {
     "data": {
      "text/plain": [
       "7252    6762700020\n",
       "3914    9808700762\n",
       "9254    9208900037\n",
       "4411    2470100110\n",
       "1448    8907500070\n",
       "Name: id, dtype: int64"
      ]
     },
     "execution_count": 74,
     "metadata": {},
     "output_type": "execute_result"
    }
   ],
   "source": [
    "sales.sort_values('price', ascending = False)['id'].head()"
   ]
  },
  {
   "cell_type": "markdown",
   "metadata": {
    "id": "XP54QULPdZTh"
   },
   "source": [
    "**Q8) Draw a pie chart displaying the types of house conditions present**"
   ]
  },
  {
   "cell_type": "code",
   "execution_count": 148,
   "metadata": {
    "id": "5XP9quaFfkaI"
   },
   "outputs": [
    {
     "data": {
      "text/plain": [
       "<matplotlib.legend.Legend at 0x27c33476910>"
      ]
     },
     "execution_count": 148,
     "metadata": {},
     "output_type": "execute_result"
    },
    {
     "data": {
      "image/png": "[encoded data removed]",
      "text/plain": [
       "<Figure size 432x288 with 1 Axes>"
      ]
     },
     "metadata": {},
     "output_type": "display_data"
    }
   ],
   "source": [
    "plt.pie(sales['condition'].value_counts(),labels=sales.condition.unique(),radius=2,autopct= '%2.1f%%',shadow=True,explode=[0.1,0,0,0,0])\n",
    "plt.legend(loc=(1.5,0.8))"
   ]
  },
  {
   "cell_type": "markdown",
   "metadata": {
    "id": "8gkXMakRdgnZ"
   },
   "source": [
    "**Q9) Draw a bar graph displaying the no of sales**"
   ]
  },
  {
   "cell_type": "code",
   "execution_count": 133,
   "metadata": {
    "id": "LFwCnSCUflFB"
   },
   "outputs": [
    {
     "data": {
      "text/plain": [
       "Text(0, 0.5, 'Sales')"
      ]
     },
     "execution_count": 133,
     "metadata": {},
     "output_type": "execute_result"
    },
    {
     "data": {
      "image/png": "[encoded data removed]",
      "text/plain": [
       "<Figure size 432x288 with 1 Axes>"
      ]
     },
     "metadata": {
      "needs_background": "light"
     },
     "output_type": "display_data"
    }
   ],
   "source": [
    "sales['floors'].value_counts().plot(kind='bar',color='green')\n",
    "plt.xticks(rotation=0)\n",
    "plt.title('Sales vs Bedroom')\n",
    "plt.xlabel('Bedroom')\n",
    "plt.ylabel('Sales')"
   ]
  },
  {
   "cell_type": "markdown",
   "metadata": {
    "id": "_LGgh106dsBQ"
   },
   "source": [
    "**Q10) Draw a graph that display the no of sales according to the date**"
   ]
  },
  {
   "cell_type": "code",
   "execution_count": 134,
   "metadata": {},
   "outputs": [
    {
     "data": {
      "text/plain": [
       "Text(0.5, 1.0, 'Date Vs Sales')"
      ]
     },
     "execution_count": 134,
     "metadata": {},
     "output_type": "execute_result"
    },
    {
     "data": {
      "image/png": "[encoded data removed]",
      "text/plain": [
       "<Figure size 576x360 with 1 Axes>"
      ]
     },
     "metadata": {
      "needs_background": "light"
     },
     "output_type": "display_data"
    }
   ],
   "source": [
    "plt.figure(figsize=(8,5))\n",
    "sales['date'].value_counts().plot(color='red',)\n",
    "plt.xticks(rotation=45)\n",
    "plt.xlabel('Date')\n",
    "plt.ylabel('Sales')\n",
    "plt.title('Date Vs Sales')"
   ]
  },
  {
   "cell_type": "markdown",
   "metadata": {
    "id": "jFgB7RxAd0rn"
   },
   "source": [
    "**Q11) Draw a bar graph that displays the no of sales accoring to the house grade**"
   ]
  },
  {
   "cell_type": "code",
   "execution_count": 136,
   "metadata": {
    "id": "ZXPUs_hXfmdR"
   },
   "outputs": [
    {
     "data": {
      "text/plain": [
       "Text(0.5, 1.0, 'Sales vs House Grade')"
      ]
     },
     "execution_count": 136,
     "metadata": {},
     "output_type": "execute_result"
    },
    {
     "data": {
      "image/png": "[encoded data removed]",
      "text/plain": [
       "<Figure size 432x288 with 1 Axes>"
      ]
     },
     "metadata": {
      "needs_background": "light"
     },
     "output_type": "display_data"
    }
   ],
   "source": [
    "sales['grade'].value_counts().plot(kind='bar',color='blue')\n",
    "plt.xticks(rotation=0)\n",
    "plt.ylabel('Sales')\n",
    "plt.xlabel('House Grade')\n",
    "plt.title(\"Sales vs House Grade\")"
   ]
  },
  {
   "cell_type": "markdown",
   "metadata": {
    "id": "HXIvKNK7doXJ"
   },
   "source": [
    "### BONUS"
   ]
  },
  {
   "cell_type": "markdown",
   "metadata": {
    "id": "PRP0ZaKFe8xt"
   },
   "source": [
    "Q1) Is there any relationship present between Year Built and Price? If yes, Please explain."
   ]
  },
  {
   "cell_type": "code",
   "execution_count": 61,
   "metadata": {
    "id": "FXoVpaJKdPSv"
   },
   "outputs": [
    {
     "data": {
      "text/html": [
       "<div>\n",
       "<style scoped>\n",
       "    .dataframe tbody tr th:only-of-type {\n",
       "        vertical-align: middle;\n",
       "    }\n",
       "\n",
       "    .dataframe tbody tr th {\n",
       "        vertical-align: top;\n",
       "    }\n",
       "\n",
       "    .dataframe thead th {\n",
       "        text-align: right;\n",
       "    }\n",
       "</style>\n",
       "<table border=\"1\" class=\"dataframe\">\n",
       "  <thead>\n",
       "    <tr style=\"text-align: right;\">\n",
       "      <th></th>\n",
       "      <th>yr_built</th>\n",
       "      <th>price</th>\n",
       "    </tr>\n",
       "  </thead>\n",
       "  <tbody>\n",
       "    <tr>\n",
       "      <th>yr_built</th>\n",
       "      <td>1.000000</td>\n",
       "      <td>0.054012</td>\n",
       "    </tr>\n",
       "    <tr>\n",
       "      <th>price</th>\n",
       "      <td>0.054012</td>\n",
       "      <td>1.000000</td>\n",
       "    </tr>\n",
       "  </tbody>\n",
       "</table>\n",
       "</div>"
      ],
      "text/plain": [
       "          yr_built     price\n",
       "yr_built  1.000000  0.054012\n",
       "price     0.054012  1.000000"
      ]
     },
     "execution_count": 61,
     "metadata": {},
     "output_type": "execute_result"
    }
   ],
   "source": [
    "sales[['yr_built','price']].corr()"
   ]
  },
  {
   "cell_type": "markdown",
   "metadata": {
    "id": "QQvNxYe5d3-3"
   },
   "source": [
    "Q2 ) Add 1.8% TAX on every sale Price within Zipcode 98103"
   ]
  },
  {
   "cell_type": "code",
   "execution_count": null,
   "metadata": {
    "id": "lWDids4yfEAz"
   },
   "outputs": [],
   "source": [
    "# your code here"
   ]
  }
 ],
 "metadata": {
  "colab": {
   "collapsed_sections": [],
   "name": "PythonAssessment_2022-23",
   "provenance": []
  },
  "kernelspec": {
   "display_name": "Python 3 (ipykernel)",
   "language": "python",
   "name": "python3"
  },
  "language_info": {
   "codemirror_mode": {
    "name": "ipython",
    "version": 3
   },
   "file_extension": ".py",
   "mimetype": "text/x-python",
   "name": "python",
   "nbconvert_exporter": "python",
   "pygments_lexer": "ipython3",
   "version": "3.9.7"
  }
 },
 "nbformat": 4,
 "nbformat_minor": 1
}
